{
 "cells": [
  {
   "cell_type": "code",
   "execution_count": null,
   "metadata": {},
   "outputs": [],
   "source": [
    "import sys\n",
    "\n",
    "numbers = \"0123456789\"\n",
    "lower_case = \"abcdefghijklmnopqrstuvwxyz\"\n",
    "upper_case = \"ABCDEFGHIJKLMNOPQRSTUVWXYZ\"\n",
    "special_characters = \"!@#$%^&*()-+\"\n",
    "\n",
    "def minimumNumber(n, password):\n",
    "    res1 = max(0, 8 - n)\n",
    "    res2 = 0\n",
    "    if not any(c in password for c in lower_case):\n",
    "        res2 += 1\n",
    "    if not any(c in password for c in upper_case):\n",
    "        res2 += 1\n",
    "    if not any(c in password for c in numbers):\n",
    "        res2 += 1\n",
    "    if not any(c in password for c in special_characters):\n",
    "        res2 += 1\n",
    "    return max(res1, res2)\n",
    "\n",
    "if __name__ == \"__main__\":\n",
    "    n = int(input().strip())\n",
    "    password = input().strip()\n",
    "    answer = minimumNumber(n, password)\n",
    "    print(answer)\n",
    "                    \n",
    "\n",
    "\n"
   ]
  },
  {
   "cell_type": "code",
   "execution_count": null,
   "metadata": {},
   "outputs": [],
   "source": []
  },
  {
   "cell_type": "code",
   "execution_count": null,
   "metadata": {},
   "outputs": [],
   "source": []
  }
 ],
 "metadata": {
  "kernelspec": {
   "display_name": "Python 3",
   "language": "python",
   "name": "python3"
  },
  "language_info": {
   "codemirror_mode": {
    "name": "ipython",
    "version": 3
   },
   "file_extension": ".py",
   "mimetype": "text/x-python",
   "name": "python",
   "nbconvert_exporter": "python",
   "pygments_lexer": "ipython3",
   "version": "3.7.6"
  }
 },
 "nbformat": 4,
 "nbformat_minor": 4
}
